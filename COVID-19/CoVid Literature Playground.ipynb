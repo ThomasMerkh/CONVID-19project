{
 "cells": [
  {
   "cell_type": "code",
   "execution_count": 1,
   "metadata": {},
   "outputs": [],
   "source": [
    "import pandas as pd\n",
    "import numpy as np\n",
    "import matplotlib.pyplot as plt\n",
    "import seaborn as sns\n",
    "%matplotlib inline"
   ]
  },
  {
   "cell_type": "markdown",
   "metadata": {},
   "source": [
    "** Read in the Data Files and get initial information **"
   ]
  },
  {
   "cell_type": "code",
   "execution_count": 2,
   "metadata": {},
   "outputs": [],
   "source": [
    "metadata = pd.read_csv('2020-03-13/all_sources_metadata_2020-03-13.csv') \n",
    "#The metadata file has information about all the articles, but not the text of the articles itself"
   ]
  },
  {
   "cell_type": "code",
   "execution_count": 3,
   "metadata": {},
   "outputs": [
    {
     "name": "stdout",
     "output_type": "stream",
     "text": [
      "<class 'pandas.core.frame.DataFrame'>\n",
      "RangeIndex: 29500 entries, 0 to 29499\n",
      "Data columns (total 14 columns):\n",
      "sha                            17420 non-null object\n",
      "source_x                       29500 non-null object\n",
      "title                          29130 non-null object\n",
      "doi                            26357 non-null object\n",
      "pmcid                          27337 non-null object\n",
      "pubmed_id                      16730 non-null float64\n",
      "license                        17692 non-null object\n",
      "abstract                       26553 non-null object\n",
      "publish_time                   18248 non-null object\n",
      "authors                        28554 non-null object\n",
      "journal                        17791 non-null object\n",
      "Microsoft Academic Paper ID    1134 non-null float64\n",
      "WHO #Covidence                 1236 non-null object\n",
      "has_full_text                  17420 non-null object\n",
      "dtypes: float64(2), object(12)\n",
      "memory usage: 3.2+ MB\n"
     ]
    }
   ],
   "source": [
    "metadata.info()"
   ]
  },
  {
   "cell_type": "code",
   "execution_count": 4,
   "metadata": {},
   "outputs": [
    {
     "data": {
      "text/html": [
       "<div>\n",
       "<style scoped>\n",
       "    .dataframe tbody tr th:only-of-type {\n",
       "        vertical-align: middle;\n",
       "    }\n",
       "\n",
       "    .dataframe tbody tr th {\n",
       "        vertical-align: top;\n",
       "    }\n",
       "\n",
       "    .dataframe thead th {\n",
       "        text-align: right;\n",
       "    }\n",
       "</style>\n",
       "<table border=\"1\" class=\"dataframe\">\n",
       "  <thead>\n",
       "    <tr style=\"text-align: right;\">\n",
       "      <th></th>\n",
       "      <th>pubmed_id</th>\n",
       "      <th>Microsoft Academic Paper ID</th>\n",
       "    </tr>\n",
       "  </thead>\n",
       "  <tbody>\n",
       "    <tr>\n",
       "      <th>count</th>\n",
       "      <td>1.673000e+04</td>\n",
       "      <td>1.134000e+03</td>\n",
       "    </tr>\n",
       "    <tr>\n",
       "      <th>mean</th>\n",
       "      <td>2.626759e+07</td>\n",
       "      <td>2.697968e+09</td>\n",
       "    </tr>\n",
       "    <tr>\n",
       "      <th>std</th>\n",
       "      <td>4.697935e+06</td>\n",
       "      <td>4.873586e+08</td>\n",
       "    </tr>\n",
       "    <tr>\n",
       "      <th>min</th>\n",
       "      <td>6.717300e+04</td>\n",
       "      <td>3.912630e+07</td>\n",
       "    </tr>\n",
       "    <tr>\n",
       "      <th>25%</th>\n",
       "      <td>2.363481e+07</td>\n",
       "      <td>2.366820e+09</td>\n",
       "    </tr>\n",
       "    <tr>\n",
       "      <th>50%</th>\n",
       "      <td>2.704658e+07</td>\n",
       "      <td>3.002534e+09</td>\n",
       "    </tr>\n",
       "    <tr>\n",
       "      <th>75%</th>\n",
       "      <td>2.995128e+07</td>\n",
       "      <td>3.005536e+09</td>\n",
       "    </tr>\n",
       "    <tr>\n",
       "      <th>max</th>\n",
       "      <td>1.347697e+08</td>\n",
       "      <td>3.006672e+09</td>\n",
       "    </tr>\n",
       "  </tbody>\n",
       "</table>\n",
       "</div>"
      ],
      "text/plain": [
       "          pubmed_id  Microsoft Academic Paper ID\n",
       "count  1.673000e+04                 1.134000e+03\n",
       "mean   2.626759e+07                 2.697968e+09\n",
       "std    4.697935e+06                 4.873586e+08\n",
       "min    6.717300e+04                 3.912630e+07\n",
       "25%    2.363481e+07                 2.366820e+09\n",
       "50%    2.704658e+07                 3.002534e+09\n",
       "75%    2.995128e+07                 3.005536e+09\n",
       "max    1.347697e+08                 3.006672e+09"
      ]
     },
     "execution_count": 4,
     "metadata": {},
     "output_type": "execute_result"
    }
   ],
   "source": [
    "metadata.describe()"
   ]
  },
  {
   "cell_type": "code",
   "execution_count": 5,
   "metadata": {},
   "outputs": [
    {
     "data": {
      "text/plain": [
       "Index(['sha', 'source_x', 'title', 'doi', 'pmcid', 'pubmed_id', 'license',\n",
       "       'abstract', 'publish_time', 'authors', 'journal',\n",
       "       'Microsoft Academic Paper ID', 'WHO #Covidence', 'has_full_text'],\n",
       "      dtype='object')"
      ]
     },
     "execution_count": 5,
     "metadata": {},
     "output_type": "execute_result"
    }
   ],
   "source": [
    "metadata.columns"
   ]
  },
  {
   "cell_type": "code",
   "execution_count": 6,
   "metadata": {},
   "outputs": [],
   "source": [
    "data = pd.read_csv('master.csv')"
   ]
  },
  {
   "cell_type": "code",
   "execution_count": 7,
   "metadata": {},
   "outputs": [
    {
     "name": "stdout",
     "output_type": "stream",
     "text": [
      "<class 'pandas.core.frame.DataFrame'>\n",
      "RangeIndex: 13203 entries, 0 to 13202\n",
      "Data columns (total 6 columns):\n",
      "Unnamed: 0    13203 non-null int64\n",
      "doc_id        13202 non-null object\n",
      "source        13202 non-null object\n",
      "title         12259 non-null object\n",
      "abstract      4420 non-null object\n",
      "text_body     11129 non-null object\n",
      "dtypes: int64(1), object(5)\n",
      "memory usage: 619.0+ KB\n"
     ]
    }
   ],
   "source": [
    "data.info()"
   ]
  },
  {
   "cell_type": "code",
   "execution_count": 8,
   "metadata": {},
   "outputs": [
    {
     "data": {
      "text/html": [
       "<div>\n",
       "<style scoped>\n",
       "    .dataframe tbody tr th:only-of-type {\n",
       "        vertical-align: middle;\n",
       "    }\n",
       "\n",
       "    .dataframe tbody tr th {\n",
       "        vertical-align: top;\n",
       "    }\n",
       "\n",
       "    .dataframe thead th {\n",
       "        text-align: right;\n",
       "    }\n",
       "</style>\n",
       "<table border=\"1\" class=\"dataframe\">\n",
       "  <thead>\n",
       "    <tr style=\"text-align: right;\">\n",
       "      <th></th>\n",
       "      <th>Unnamed: 0</th>\n",
       "    </tr>\n",
       "  </thead>\n",
       "  <tbody>\n",
       "    <tr>\n",
       "      <th>count</th>\n",
       "      <td>13203.000000</td>\n",
       "    </tr>\n",
       "    <tr>\n",
       "      <th>mean</th>\n",
       "      <td>6601.000000</td>\n",
       "    </tr>\n",
       "    <tr>\n",
       "      <th>std</th>\n",
       "      <td>3811.522137</td>\n",
       "    </tr>\n",
       "    <tr>\n",
       "      <th>min</th>\n",
       "      <td>0.000000</td>\n",
       "    </tr>\n",
       "    <tr>\n",
       "      <th>25%</th>\n",
       "      <td>3300.500000</td>\n",
       "    </tr>\n",
       "    <tr>\n",
       "      <th>50%</th>\n",
       "      <td>6601.000000</td>\n",
       "    </tr>\n",
       "    <tr>\n",
       "      <th>75%</th>\n",
       "      <td>9901.500000</td>\n",
       "    </tr>\n",
       "    <tr>\n",
       "      <th>max</th>\n",
       "      <td>13202.000000</td>\n",
       "    </tr>\n",
       "  </tbody>\n",
       "</table>\n",
       "</div>"
      ],
      "text/plain": [
       "         Unnamed: 0\n",
       "count  13203.000000\n",
       "mean    6601.000000\n",
       "std     3811.522137\n",
       "min        0.000000\n",
       "25%     3300.500000\n",
       "50%     6601.000000\n",
       "75%     9901.500000\n",
       "max    13202.000000"
      ]
     },
     "execution_count": 8,
     "metadata": {},
     "output_type": "execute_result"
    }
   ],
   "source": [
    "data.describe()"
   ]
  },
  {
   "cell_type": "code",
   "execution_count": 14,
   "metadata": {},
   "outputs": [
    {
     "data": {
      "text/plain": [
       "'The RNA pseudoknots in foot-and-mouth disease virus are dispensable for genome replication but essential for the production of infectious virus. 2 3'"
      ]
     },
     "execution_count": 14,
     "metadata": {},
     "output_type": "execute_result"
    }
   ],
   "source": [
    "data['title'][1]"
   ]
  },
  {
   "cell_type": "code",
   "execution_count": 15,
   "metadata": {},
   "outputs": [
    {
     "name": "stdout",
     "output_type": "stream",
     "text": [
      "The RNA pseudoknots in foot-and-mouth disease virus are dispensable for genome replication but essential for the production of infectious virus. 2 3\n",
      "Healthcare-resource-adjusted vulnerabilities towards the 2019-nCoV epidemic across China\n",
      "Real-time, MinION-based, amplicon sequencing for lineage typing of infectious bronchitis virus from upper respiratory samples\n",
      "Assessing spread risk of Wuhan novel coronavirus within and beyond China, January-April 2020: a travel network-based modelling study\n"
     ]
    }
   ],
   "source": [
    "for title in data['title'][1:5]:\n",
    "    print(title)"
   ]
  },
  {
   "cell_type": "code",
   "execution_count": 25,
   "metadata": {},
   "outputs": [],
   "source": [
    "#count occurances of words in titles (to answer \"What do we know about diagnostics and surveillance\")\n",
    "index_list = []\n",
    "title_count=0\n",
    "for title in data['title']:\n",
    "    splist = str(title).split()\n",
    "    temp_count = 0\n",
    "    for word in splist:\n",
    "        if word.lower() in ['testing', 'test', 'diagnostic', 'diagnostics', 'surveillance']:\n",
    "            temp_count += 1\n",
    "            index_list.append(data[data['title']==title].index.values.tolist())\n",
    "            break\n",
    "    if temp_count > 0 :\n",
    "        title_count += 1"
   ]
  },
  {
   "cell_type": "code",
   "execution_count": 26,
   "metadata": {},
   "outputs": [
    {
     "data": {
      "text/plain": [
       "331"
      ]
     },
     "execution_count": 26,
     "metadata": {},
     "output_type": "execute_result"
    }
   ],
   "source": [
    "title_count"
   ]
  },
  {
   "cell_type": "code",
   "execution_count": 29,
   "metadata": {},
   "outputs": [],
   "source": [
    "index_list = [item for sublist in index_list for item in sublist]"
   ]
  },
  {
   "cell_type": "code",
   "execution_count": 30,
   "metadata": {},
   "outputs": [
    {
     "data": {
      "text/plain": [
       "[12,\n",
       " 51,\n",
       " 65,\n",
       " 126,\n",
       " 160,\n",
       " 204,\n",
       " 291,\n",
       " 336,\n",
       " 415,\n",
       " 417,\n",
       " 445,\n",
       " 447,\n",
       " 523,\n",
       " 533,\n",
       " 535,\n",
       " 580,\n",
       " 584,\n",
       " 619,\n",
       " 703,\n",
       " 12187,\n",
       " 839,\n",
       " 851,\n",
       " 877,\n",
       " 974,\n",
       " 1023,\n",
       " 1041,\n",
       " 1058,\n",
       " 1111,\n",
       " 1193,\n",
       " 1199,\n",
       " 1230,\n",
       " 1253,\n",
       " 1278,\n",
       " 1320,\n",
       " 1329,\n",
       " 1352,\n",
       " 1400,\n",
       " 1460,\n",
       " 1469,\n",
       " 1570,\n",
       " 4192,\n",
       " 1603,\n",
       " 1606,\n",
       " 1783,\n",
       " 6909,\n",
       " 1638,\n",
       " 1719,\n",
       " 1720,\n",
       " 1738,\n",
       " 1772,\n",
       " 1606,\n",
       " 1783,\n",
       " 6909,\n",
       " 1789,\n",
       " 1796,\n",
       " 1815,\n",
       " 1835,\n",
       " 1839,\n",
       " 1864,\n",
       " 1872,\n",
       " 1898,\n",
       " 1913,\n",
       " 1947,\n",
       " 1985,\n",
       " 1987,\n",
       " 2040,\n",
       " 2090,\n",
       " 2138,\n",
       " 2150,\n",
       " 2253,\n",
       " 2255,\n",
       " 2283,\n",
       " 2294,\n",
       " 2342,\n",
       " 2346,\n",
       " 2367,\n",
       " 2395,\n",
       " 2414,\n",
       " 2427,\n",
       " 2473,\n",
       " 2487,\n",
       " 2493,\n",
       " 2509,\n",
       " 2606,\n",
       " 2694,\n",
       " 2697,\n",
       " 2711,\n",
       " 2713,\n",
       " 2727,\n",
       " 2750,\n",
       " 2781,\n",
       " 2782,\n",
       " 2808,\n",
       " 2811,\n",
       " 2861,\n",
       " 2957,\n",
       " 2978,\n",
       " 3086,\n",
       " 3096,\n",
       " 3113,\n",
       " 3123,\n",
       " 3132,\n",
       " 3143,\n",
       " 3156,\n",
       " 3214,\n",
       " 3223,\n",
       " 3237,\n",
       " 3273,\n",
       " 3299,\n",
       " 3312,\n",
       " 3340,\n",
       " 3974,\n",
       " 3423,\n",
       " 3435,\n",
       " 3450,\n",
       " 3485,\n",
       " 3488,\n",
       " 3576,\n",
       " 3618,\n",
       " 3648,\n",
       " 3654,\n",
       " 3735,\n",
       " 3748,\n",
       " 3756,\n",
       " 3843,\n",
       " 3886,\n",
       " 3931,\n",
       " 3340,\n",
       " 3974,\n",
       " 4019,\n",
       " 4085,\n",
       " 4100,\n",
       " 4124,\n",
       " 4152,\n",
       " 4171,\n",
       " 1570,\n",
       " 4192,\n",
       " 4207,\n",
       " 4215,\n",
       " 4233,\n",
       " 4239,\n",
       " 4244,\n",
       " 4251,\n",
       " 4360,\n",
       " 4382,\n",
       " 4410,\n",
       " 4414,\n",
       " 4449,\n",
       " 4510,\n",
       " 4565,\n",
       " 4572,\n",
       " 4675,\n",
       " 4710,\n",
       " 4719,\n",
       " 4740,\n",
       " 4763,\n",
       " 4770,\n",
       " 4813,\n",
       " 4816,\n",
       " 4865,\n",
       " 4892,\n",
       " 4898,\n",
       " 4943,\n",
       " 4970,\n",
       " 5120,\n",
       " 5196,\n",
       " 5198,\n",
       " 5212,\n",
       " 5217,\n",
       " 5244,\n",
       " 5274,\n",
       " 5281,\n",
       " 5403,\n",
       " 5406,\n",
       " 5534,\n",
       " 5544,\n",
       " 5575,\n",
       " 5635,\n",
       " 5636,\n",
       " 5672,\n",
       " 5677,\n",
       " 5681,\n",
       " 5682,\n",
       " 5706,\n",
       " 5721,\n",
       " 5750,\n",
       " 5879,\n",
       " 5880,\n",
       " 5925,\n",
       " 5960,\n",
       " 6041,\n",
       " 6050,\n",
       " 6117,\n",
       " 6125,\n",
       " 6157,\n",
       " 6239,\n",
       " 6261,\n",
       " 6292,\n",
       " 6329,\n",
       " 6509,\n",
       " 6564,\n",
       " 6612,\n",
       " 6624,\n",
       " 6778,\n",
       " 6790,\n",
       " 6862,\n",
       " 6872,\n",
       " 1606,\n",
       " 1783,\n",
       " 6909,\n",
       " 6960,\n",
       " 6961,\n",
       " 7021,\n",
       " 7053,\n",
       " 7095,\n",
       " 7099,\n",
       " 7163,\n",
       " 7200,\n",
       " 7356,\n",
       " 7411,\n",
       " 7504,\n",
       " 7587,\n",
       " 7599,\n",
       " 7670,\n",
       " 7705,\n",
       " 7722,\n",
       " 7836,\n",
       " 7885,\n",
       " 7960,\n",
       " 8009,\n",
       " 8020,\n",
       " 8094,\n",
       " 8095,\n",
       " 8189,\n",
       " 8272,\n",
       " 8287,\n",
       " 8347,\n",
       " 8451,\n",
       " 8608,\n",
       " 8636,\n",
       " 8798,\n",
       " 8805,\n",
       " 8841,\n",
       " 8843,\n",
       " 8867,\n",
       " 8874,\n",
       " 8913,\n",
       " 9046,\n",
       " 9067,\n",
       " 9079,\n",
       " 9143,\n",
       " 9184,\n",
       " 9230,\n",
       " 9277,\n",
       " 9315,\n",
       " 9349,\n",
       " 9374,\n",
       " 9385,\n",
       " 9392,\n",
       " 9426,\n",
       " 9597,\n",
       " 9602,\n",
       " 9623,\n",
       " 9682,\n",
       " 9765,\n",
       " 9805,\n",
       " 9825,\n",
       " 9884,\n",
       " 9899,\n",
       " 9944,\n",
       " 10048,\n",
       " 10070,\n",
       " 10150,\n",
       " 10186,\n",
       " 10245,\n",
       " 10281,\n",
       " 10313,\n",
       " 10455,\n",
       " 10474,\n",
       " 10575,\n",
       " 10607,\n",
       " 10734,\n",
       " 10754,\n",
       " 10805,\n",
       " 10832,\n",
       " 10873,\n",
       " 10903,\n",
       " 10950,\n",
       " 11002,\n",
       " 11041,\n",
       " 11050,\n",
       " 11068,\n",
       " 11128,\n",
       " 11131,\n",
       " 11196,\n",
       " 11248,\n",
       " 11285,\n",
       " 11313,\n",
       " 11399,\n",
       " 11453,\n",
       " 11464,\n",
       " 11508,\n",
       " 11558,\n",
       " 11644,\n",
       " 11645,\n",
       " 11770,\n",
       " 11795,\n",
       " 11800,\n",
       " 11883,\n",
       " 11923,\n",
       " 12075,\n",
       " 12119,\n",
       " 12144,\n",
       " 12153,\n",
       " 12165,\n",
       " 12178,\n",
       " 703,\n",
       " 12187,\n",
       " 12188,\n",
       " 12205,\n",
       " 12217,\n",
       " 12334,\n",
       " 12376,\n",
       " 12488,\n",
       " 12525,\n",
       " 12585,\n",
       " 12629,\n",
       " 12672,\n",
       " 12692,\n",
       " 12696,\n",
       " 12741,\n",
       " 12754,\n",
       " 12839,\n",
       " 12867,\n",
       " 12910,\n",
       " 12913,\n",
       " 12940,\n",
       " 12943,\n",
       " 13091,\n",
       " 13117,\n",
       " 13170,\n",
       " 13176,\n",
       " 13180]"
      ]
     },
     "execution_count": 30,
     "metadata": {},
     "output_type": "execute_result"
    }
   ],
   "source": [
    "index_list"
   ]
  },
  {
   "cell_type": "markdown",
   "metadata": {},
   "source": [
    "** Basic Bag of Words Analysis **"
   ]
  },
  {
   "cell_type": "code",
   "execution_count": 5,
   "metadata": {},
   "outputs": [],
   "source": [
    "import string"
   ]
  },
  {
   "cell_type": "code",
   "execution_count": 20,
   "metadata": {},
   "outputs": [],
   "source": [
    "#Only need to do this once. \n",
    "#import nltk # Imports the library\n",
    "#nltk.download() #Download the necessary datasets"
   ]
  },
  {
   "cell_type": "code",
   "execution_count": 6,
   "metadata": {},
   "outputs": [],
   "source": [
    "from nltk.corpus import stopwords"
   ]
  },
  {
   "cell_type": "code",
   "execution_count": 7,
   "metadata": {},
   "outputs": [],
   "source": [
    "#Now, convert text to lists of tokens, apply vectoriztion to the text, and extract texts with highest word counts. \n",
    "#Much of this code taken/adapted from the Python for Data Science Udemy course\n",
    "def text_process(mess):\n",
    "    \"\"\"\n",
    "    Takes in a string of text, then performs the following:\n",
    "    1. Remove all punctuation\n",
    "    2. Remove all stopwords\n",
    "    3. Returns a list of the cleaned text\n",
    "    \"\"\"\n",
    "    # Check characters to see if they are in punctuation\n",
    "    nopunc = [char for char in mess if char not in string.punctuation]\n",
    "\n",
    "    # Join the characters again to form the string.\n",
    "    nopunc = ''.join(nopunc)\n",
    "    \n",
    "    # Now just remove any stopwords\n",
    "    return [word for word in nopunc.split() if word.lower() not in stopwords.words('english')]"
   ]
  },
  {
   "cell_type": "code",
   "execution_count": 23,
   "metadata": {},
   "outputs": [
    {
     "data": {
      "text/html": [
       "<div>\n",
       "<style scoped>\n",
       "    .dataframe tbody tr th:only-of-type {\n",
       "        vertical-align: middle;\n",
       "    }\n",
       "\n",
       "    .dataframe tbody tr th {\n",
       "        vertical-align: top;\n",
       "    }\n",
       "\n",
       "    .dataframe thead th {\n",
       "        text-align: right;\n",
       "    }\n",
       "</style>\n",
       "<table border=\"1\" class=\"dataframe\">\n",
       "  <thead>\n",
       "    <tr style=\"text-align: right;\">\n",
       "      <th></th>\n",
       "      <th>Unnamed: 0</th>\n",
       "      <th>doc_id</th>\n",
       "      <th>source</th>\n",
       "      <th>title</th>\n",
       "      <th>abstract</th>\n",
       "      <th>text_body</th>\n",
       "    </tr>\n",
       "  </thead>\n",
       "  <tbody>\n",
       "    <tr>\n",
       "      <th>0</th>\n",
       "      <td>0</td>\n",
       "      <td>NaN</td>\n",
       "      <td>NaN</td>\n",
       "      <td>NaN</td>\n",
       "      <td>NaN</td>\n",
       "      <td>NaN</td>\n",
       "    </tr>\n",
       "    <tr>\n",
       "      <th>1</th>\n",
       "      <td>1</td>\n",
       "      <td>0015023cc06b5362d332b3baf348d11567ca2fbb</td>\n",
       "      <td>BIORXIV</td>\n",
       "      <td>The RNA pseudoknots in foot-and-mouth disease ...</td>\n",
       "      <td>word count: 194 22 Text word count: 5168 23 24...</td>\n",
       "      <td>VP3, and VP0 (which is further processed to VP...</td>\n",
       "    </tr>\n",
       "    <tr>\n",
       "      <th>2</th>\n",
       "      <td>2</td>\n",
       "      <td>004f0f8bb66cf446678dc13cf2701feec4f36d76</td>\n",
       "      <td>BIORXIV</td>\n",
       "      <td>Healthcare-resource-adjusted vulnerabilities t...</td>\n",
       "      <td>NaN</td>\n",
       "      <td>NaN</td>\n",
       "    </tr>\n",
       "    <tr>\n",
       "      <th>3</th>\n",
       "      <td>3</td>\n",
       "      <td>00d16927588fb04d4be0e6b269fc02f0d3c2aa7b</td>\n",
       "      <td>BIORXIV</td>\n",
       "      <td>Real-time, MinION-based, amplicon sequencing f...</td>\n",
       "      <td>Infectious bronchitis (IB) causes significant ...</td>\n",
       "      <td>Infectious bronchitis (IB), which is caused by...</td>\n",
       "    </tr>\n",
       "    <tr>\n",
       "      <th>4</th>\n",
       "      <td>4</td>\n",
       "      <td>013d9d1cba8a54d5d3718c229b812d7cf91b6c89</td>\n",
       "      <td>BIORXIV</td>\n",
       "      <td>Assessing spread risk of Wuhan novel coronavir...</td>\n",
       "      <td>NaN</td>\n",
       "      <td>In December 2019, a cluster of patients with p...</td>\n",
       "    </tr>\n",
       "  </tbody>\n",
       "</table>\n",
       "</div>"
      ],
      "text/plain": [
       "   Unnamed: 0                                    doc_id   source  \\\n",
       "0           0                                       NaN      NaN   \n",
       "1           1  0015023cc06b5362d332b3baf348d11567ca2fbb  BIORXIV   \n",
       "2           2  004f0f8bb66cf446678dc13cf2701feec4f36d76  BIORXIV   \n",
       "3           3  00d16927588fb04d4be0e6b269fc02f0d3c2aa7b  BIORXIV   \n",
       "4           4  013d9d1cba8a54d5d3718c229b812d7cf91b6c89  BIORXIV   \n",
       "\n",
       "                                               title  \\\n",
       "0                                                NaN   \n",
       "1  The RNA pseudoknots in foot-and-mouth disease ...   \n",
       "2  Healthcare-resource-adjusted vulnerabilities t...   \n",
       "3  Real-time, MinION-based, amplicon sequencing f...   \n",
       "4  Assessing spread risk of Wuhan novel coronavir...   \n",
       "\n",
       "                                            abstract  \\\n",
       "0                                                NaN   \n",
       "1  word count: 194 22 Text word count: 5168 23 24...   \n",
       "2                                                NaN   \n",
       "3  Infectious bronchitis (IB) causes significant ...   \n",
       "4                                                NaN   \n",
       "\n",
       "                                           text_body  \n",
       "0                                                NaN  \n",
       "1  VP3, and VP0 (which is further processed to VP...  \n",
       "2                                                NaN  \n",
       "3  Infectious bronchitis (IB), which is caused by...  \n",
       "4  In December 2019, a cluster of patients with p...  "
      ]
     },
     "execution_count": 23,
     "metadata": {},
     "output_type": "execute_result"
    }
   ],
   "source": [
    "data.head()"
   ]
  },
  {
   "cell_type": "code",
   "execution_count": 33,
   "metadata": {},
   "outputs": [],
   "source": [
    "texts= ['title','abstract','text_body']\n",
    "text_only = data[texts]"
   ]
  },
  {
   "cell_type": "code",
   "execution_count": 34,
   "metadata": {},
   "outputs": [
    {
     "data": {
      "text/html": [
       "<div>\n",
       "<style scoped>\n",
       "    .dataframe tbody tr th:only-of-type {\n",
       "        vertical-align: middle;\n",
       "    }\n",
       "\n",
       "    .dataframe tbody tr th {\n",
       "        vertical-align: top;\n",
       "    }\n",
       "\n",
       "    .dataframe thead th {\n",
       "        text-align: right;\n",
       "    }\n",
       "</style>\n",
       "<table border=\"1\" class=\"dataframe\">\n",
       "  <thead>\n",
       "    <tr style=\"text-align: right;\">\n",
       "      <th></th>\n",
       "      <th>title</th>\n",
       "      <th>abstract</th>\n",
       "      <th>text_body</th>\n",
       "    </tr>\n",
       "  </thead>\n",
       "  <tbody>\n",
       "    <tr>\n",
       "      <th>0</th>\n",
       "      <td>NaN</td>\n",
       "      <td>NaN</td>\n",
       "      <td>NaN</td>\n",
       "    </tr>\n",
       "    <tr>\n",
       "      <th>1</th>\n",
       "      <td>The RNA pseudoknots in foot-and-mouth disease ...</td>\n",
       "      <td>word count: 194 22 Text word count: 5168 23 24...</td>\n",
       "      <td>VP3, and VP0 (which is further processed to VP...</td>\n",
       "    </tr>\n",
       "    <tr>\n",
       "      <th>2</th>\n",
       "      <td>Healthcare-resource-adjusted vulnerabilities t...</td>\n",
       "      <td>NaN</td>\n",
       "      <td>NaN</td>\n",
       "    </tr>\n",
       "    <tr>\n",
       "      <th>3</th>\n",
       "      <td>Real-time, MinION-based, amplicon sequencing f...</td>\n",
       "      <td>Infectious bronchitis (IB) causes significant ...</td>\n",
       "      <td>Infectious bronchitis (IB), which is caused by...</td>\n",
       "    </tr>\n",
       "    <tr>\n",
       "      <th>4</th>\n",
       "      <td>Assessing spread risk of Wuhan novel coronavir...</td>\n",
       "      <td>NaN</td>\n",
       "      <td>In December 2019, a cluster of patients with p...</td>\n",
       "    </tr>\n",
       "  </tbody>\n",
       "</table>\n",
       "</div>"
      ],
      "text/plain": [
       "                                               title  \\\n",
       "0                                                NaN   \n",
       "1  The RNA pseudoknots in foot-and-mouth disease ...   \n",
       "2  Healthcare-resource-adjusted vulnerabilities t...   \n",
       "3  Real-time, MinION-based, amplicon sequencing f...   \n",
       "4  Assessing spread risk of Wuhan novel coronavir...   \n",
       "\n",
       "                                            abstract  \\\n",
       "0                                                NaN   \n",
       "1  word count: 194 22 Text word count: 5168 23 24...   \n",
       "2                                                NaN   \n",
       "3  Infectious bronchitis (IB) causes significant ...   \n",
       "4                                                NaN   \n",
       "\n",
       "                                           text_body  \n",
       "0                                                NaN  \n",
       "1  VP3, and VP0 (which is further processed to VP...  \n",
       "2                                                NaN  \n",
       "3  Infectious bronchitis (IB), which is caused by...  \n",
       "4  In December 2019, a cluster of patients with p...  "
      ]
     },
     "execution_count": 34,
     "metadata": {},
     "output_type": "execute_result"
    }
   ],
   "source": [
    "text_only.head()"
   ]
  },
  {
   "cell_type": "code",
   "execution_count": 35,
   "metadata": {},
   "outputs": [
    {
     "ename": "NameError",
     "evalue": "name 'text_process' is not defined",
     "output_type": "error",
     "traceback": [
      "\u001b[0;31m---------------------------------------------------------------------------\u001b[0m",
      "\u001b[0;31mNameError\u001b[0m                                 Traceback (most recent call last)",
      "\u001b[0;32m<ipython-input-35-f63b9193c601>\u001b[0m in \u001b[0;36m<module>\u001b[0;34m()\u001b[0m\n\u001b[1;32m      1\u001b[0m \u001b[0;31m#test\u001b[0m\u001b[0;34m\u001b[0m\u001b[0;34m\u001b[0m\u001b[0;34m\u001b[0m\u001b[0m\n\u001b[0;32m----> 2\u001b[0;31m \u001b[0mtext_only\u001b[0m\u001b[0;34m[\u001b[0m\u001b[0;34m'title'\u001b[0m\u001b[0;34m]\u001b[0m\u001b[0;34m[\u001b[0m\u001b[0;36m1\u001b[0m\u001b[0;34m:\u001b[0m\u001b[0;36m4\u001b[0m\u001b[0;34m]\u001b[0m\u001b[0;34m.\u001b[0m\u001b[0mapply\u001b[0m\u001b[0;34m(\u001b[0m\u001b[0mtext_process\u001b[0m\u001b[0;34m)\u001b[0m\u001b[0;34m\u001b[0m\u001b[0;34m\u001b[0m\u001b[0m\n\u001b[0m",
      "\u001b[0;31mNameError\u001b[0m: name 'text_process' is not defined"
     ]
    }
   ],
   "source": [
    "#test\n",
    "text_only['title'][1:4].apply(text_process)"
   ]
  },
  {
   "cell_type": "code",
   "execution_count": 36,
   "metadata": {},
   "outputs": [
    {
     "name": "stderr",
     "output_type": "stream",
     "text": [
      "/anaconda3/lib/python3.6/site-packages/ipykernel_launcher.py:2: SettingWithCopyWarning: \n",
      "A value is trying to be set on a copy of a slice from a DataFrame\n",
      "\n",
      "See the caveats in the documentation: http://pandas.pydata.org/pandas-docs/stable/indexing.html#indexing-view-versus-copy\n",
      "  \n"
     ]
    },
    {
     "data": {
      "text/html": [
       "<div>\n",
       "<style scoped>\n",
       "    .dataframe tbody tr th:only-of-type {\n",
       "        vertical-align: middle;\n",
       "    }\n",
       "\n",
       "    .dataframe tbody tr th {\n",
       "        vertical-align: top;\n",
       "    }\n",
       "\n",
       "    .dataframe thead th {\n",
       "        text-align: right;\n",
       "    }\n",
       "</style>\n",
       "<table border=\"1\" class=\"dataframe\">\n",
       "  <thead>\n",
       "    <tr style=\"text-align: right;\">\n",
       "      <th></th>\n",
       "      <th>title</th>\n",
       "      <th>abstract</th>\n",
       "      <th>text_body</th>\n",
       "    </tr>\n",
       "  </thead>\n",
       "  <tbody>\n",
       "    <tr>\n",
       "      <th>1</th>\n",
       "      <td>The RNA pseudoknots in foot-and-mouth disease ...</td>\n",
       "      <td>word count: 194 22 Text word count: 5168 23 24...</td>\n",
       "      <td>VP3, and VP0 (which is further processed to VP...</td>\n",
       "    </tr>\n",
       "    <tr>\n",
       "      <th>3</th>\n",
       "      <td>Real-time, MinION-based, amplicon sequencing f...</td>\n",
       "      <td>Infectious bronchitis (IB) causes significant ...</td>\n",
       "      <td>Infectious bronchitis (IB), which is caused by...</td>\n",
       "    </tr>\n",
       "    <tr>\n",
       "      <th>4</th>\n",
       "      <td>Assessing spread risk of Wuhan novel coronavir...</td>\n",
       "      <td>NaN</td>\n",
       "      <td>In December 2019, a cluster of patients with p...</td>\n",
       "    </tr>\n",
       "    <tr>\n",
       "      <th>5</th>\n",
       "      <td>TWIRLS, an automated topic-wise inference meth...</td>\n",
       "      <td>Faced with the current large-scale public heal...</td>\n",
       "      <td>The sudden outbreak of the new coronavirus (SA...</td>\n",
       "    </tr>\n",
       "    <tr>\n",
       "      <th>6</th>\n",
       "      <td>Title: Viruses are a dominant driver of protei...</td>\n",
       "      <td>Viruses interact with hundreds to thousands of...</td>\n",
       "      <td>The copyright holder for this preprint (which ...</td>\n",
       "    </tr>\n",
       "  </tbody>\n",
       "</table>\n",
       "</div>"
      ],
      "text/plain": [
       "                                               title  \\\n",
       "1  The RNA pseudoknots in foot-and-mouth disease ...   \n",
       "3  Real-time, MinION-based, amplicon sequencing f...   \n",
       "4  Assessing spread risk of Wuhan novel coronavir...   \n",
       "5  TWIRLS, an automated topic-wise inference meth...   \n",
       "6  Title: Viruses are a dominant driver of protei...   \n",
       "\n",
       "                                            abstract  \\\n",
       "1  word count: 194 22 Text word count: 5168 23 24...   \n",
       "3  Infectious bronchitis (IB) causes significant ...   \n",
       "4                                                NaN   \n",
       "5  Faced with the current large-scale public heal...   \n",
       "6  Viruses interact with hundreds to thousands of...   \n",
       "\n",
       "                                           text_body  \n",
       "1  VP3, and VP0 (which is further processed to VP...  \n",
       "3  Infectious bronchitis (IB), which is caused by...  \n",
       "4  In December 2019, a cluster of patients with p...  \n",
       "5  The sudden outbreak of the new coronavirus (SA...  \n",
       "6  The copyright holder for this preprint (which ...  "
      ]
     },
     "execution_count": 36,
     "metadata": {},
     "output_type": "execute_result"
    }
   ],
   "source": [
    "#clean dataframe to remove rows with NaN in title or text body\n",
    "text_only.dropna(subset=['title','text_body'],inplace=True)\n",
    "text_only.head()"
   ]
  },
  {
   "cell_type": "code",
   "execution_count": 12,
   "metadata": {},
   "outputs": [],
   "source": [
    "from sklearn.feature_extraction.text import CountVectorizer"
   ]
  },
  {
   "cell_type": "code",
   "execution_count": 13,
   "metadata": {},
   "outputs": [],
   "source": [
    "bow_transformer = CountVectorizer(analyzer = text_process).fit(text_only['title'])"
   ]
  },
  {
   "cell_type": "code",
   "execution_count": 14,
   "metadata": {},
   "outputs": [
    {
     "name": "stdout",
     "output_type": "stream",
     "text": [
      "Real-time, MinION-based, amplicon sequencing for lineage typing of infectious bronchitis virus from upper respiratory samples\n"
     ]
    }
   ],
   "source": [
    "test_title = text_only['title'][3]\n",
    "print(test_title)"
   ]
  },
  {
   "cell_type": "code",
   "execution_count": 36,
   "metadata": {},
   "outputs": [
    {
     "name": "stdout",
     "output_type": "stream",
     "text": [
      "  (0, 8248)\t1\n",
      "  (0, 10914)\t1\n",
      "  (0, 14300)\t1\n",
      "  (0, 14894)\t1\n",
      "  (0, 17783)\t1\n",
      "  (0, 18286)\t1\n",
      "  (0, 20696)\t1\n",
      "  (0, 20897)\t1\n",
      "  (0, 21058)\t1\n",
      "  (0, 22094)\t1\n",
      "  (0, 22187)\t1\n",
      "  (0, 22353)\t1\n",
      "(1, 23119)\n"
     ]
    }
   ],
   "source": [
    "test_bow = bow_transformer.transform([test_title])\n",
    "print(test_bow)\n",
    "print(test_bow.shape)"
   ]
  },
  {
   "cell_type": "code",
   "execution_count": 15,
   "metadata": {},
   "outputs": [],
   "source": [
    "titles_bow = bow_transformer.transform(text_only['title'])"
   ]
  },
  {
   "cell_type": "code",
   "execution_count": 39,
   "metadata": {},
   "outputs": [
    {
     "name": "stdout",
     "output_type": "stream",
     "text": [
      "Shape of Sparse Matrix:  (10779, 23119)\n",
      "Amount of Non-Zero occurences:  114369\n"
     ]
    }
   ],
   "source": [
    "print('Shape of Sparse Matrix: ', titles_bow.shape)\n",
    "print('Amount of Non-Zero occurences: ', titles_bow.nnz)"
   ]
  },
  {
   "cell_type": "code",
   "execution_count": 43,
   "metadata": {},
   "outputs": [
    {
     "name": "stdout",
     "output_type": "stream",
     "text": [
      "sparsity: 0.04589451734534786\n"
     ]
    }
   ],
   "source": [
    "sparsity = (100.0 * titles_bow.nnz / (titles_bow.shape[0] * titles_bow.shape[1]))\n",
    "print('sparsity: {}'.format(sparsity))"
   ]
  },
  {
   "cell_type": "code",
   "execution_count": 46,
   "metadata": {},
   "outputs": [],
   "source": [
    "#TF-IDF\n",
    "from sklearn.feature_extraction.text import TfidfTransformer\n",
    "\n",
    "tfidf_transformer = TfidfTransformer().fit(titles_bow)\n",
    "tfidf_test = tfidf_transformer.transform(test_bow)"
   ]
  },
  {
   "cell_type": "code",
   "execution_count": 47,
   "metadata": {},
   "outputs": [
    {
     "name": "stdout",
     "output_type": "stream",
     "text": [
      "  (0, 22353)\t0.14542653475927733\n",
      "  (0, 22187)\t0.3061401090382126\n",
      "  (0, 22094)\t0.3626299619647658\n",
      "  (0, 21058)\t0.2516065749188464\n",
      "  (0, 20897)\t0.2730956634049257\n",
      "  (0, 20696)\t0.16327750477701794\n",
      "  (0, 18286)\t0.3178628126848458\n",
      "  (0, 17783)\t0.2026129655941108\n",
      "  (0, 14894)\t0.24373426120198394\n",
      "  (0, 14300)\t0.3626299619647658\n",
      "  (0, 10914)\t0.3214084232181746\n",
      "  (0, 8248)\t0.3908748884280424\n"
     ]
    }
   ],
   "source": [
    "print(tfidf_test)"
   ]
  },
  {
   "cell_type": "code",
   "execution_count": 50,
   "metadata": {},
   "outputs": [
    {
     "name": "stdout",
     "output_type": "stream",
     "text": [
      "7.800541194674988\n",
      "3.5688530709420103\n"
     ]
    }
   ],
   "source": [
    "#Check inverse document frequency of the word 'test' and 'virus'\n",
    "print(tfidf_transformer.idf_[bow_transformer.vocabulary_['test']])\n",
    "print(tfidf_transformer.idf_[bow_transformer.vocabulary_['virus']])"
   ]
  },
  {
   "cell_type": "code",
   "execution_count": 52,
   "metadata": {},
   "outputs": [
    {
     "name": "stdout",
     "output_type": "stream",
     "text": [
      "(10779, 23119)\n"
     ]
    }
   ],
   "source": [
    "#transform whole corpus into TF-IDF corpus\n",
    "titles_tfidf = tfidf_transformer.transform(titles_bow)\n",
    "print(titles_tfidf.shape)"
   ]
  },
  {
   "cell_type": "markdown",
   "metadata": {},
   "source": [
    "** Topic Modeling with NMF **"
   ]
  },
  {
   "cell_type": "code",
   "execution_count": 64,
   "metadata": {},
   "outputs": [],
   "source": [
    "# With help from https://sanjayasubedi.com.np/nlp/nlp-with-python-topic-modeling/\n",
    "# We model train and extract features (using TfidfVectorizer) from the text of the articles\n",
    "\n",
    "#number of topics to extract\n",
    "n_topics = 10\n",
    "\n",
    "from sklearn.feature_extraction.text import TfidfVectorizer\n",
    "vec = TfidfVectorizer(max_features=5000, stop_words = 'english', max_df =0.95, min_df =2) #max and min document frequency\n",
    "features = vec.fit_transform(text_only['title'])"
   ]
  },
  {
   "cell_type": "code",
   "execution_count": 69,
   "metadata": {},
   "outputs": [
    {
     "data": {
      "text/plain": [
       "array([0.        , 0.        , 0.00011231, 0.        , 0.00207989,\n",
       "       0.00372812, 0.        , 0.        , 0.        ])"
      ]
     },
     "execution_count": 69,
     "metadata": {},
     "output_type": "execute_result"
    }
   ],
   "source": [
    "cls.components_[1,1:10]"
   ]
  },
  {
   "cell_type": "code",
   "execution_count": 65,
   "metadata": {},
   "outputs": [
    {
     "data": {
      "text/plain": [
       "NMF(alpha=0.0, beta_loss='frobenius', init=None, l1_ratio=0.0, max_iter=200,\n",
       "  n_components=10, random_state=101, shuffle=False, solver='cd',\n",
       "  tol=0.0001, verbose=0)"
      ]
     },
     "execution_count": 65,
     "metadata": {},
     "output_type": "execute_result"
    }
   ],
   "source": [
    "#Use an NMF model for topic modeling\n",
    "from sklearn.decomposition import NMF\n",
    "cls = NMF(n_components = n_topics, random_state = 101) #last is the random seed\n",
    "cls.fit(features)"
   ]
  },
  {
   "cell_type": "code",
   "execution_count": 73,
   "metadata": {},
   "outputs": [
    {
     "name": "stdout",
     "output_type": "stream",
     "text": [
      "0 virus infection hepatitis ebola replication zika dengue host syncytial bronchitis entry fever antiviral activity feline \n",
      "1 syndrome middle east respiratory coronavirus mers severe korea cov acute outbreak 2015 saudi reproductive camels \n",
      "2 respiratory infections viral acute children tract patients severe infection hospitalized clinical study pneumonia bacterial human \n",
      "3 coronavirus sars novel china 2019 covid cov 19 clinical wuhan patients transmission ncov mers outbreak \n",
      "4 protein human cells cell expression viral rna host immune response induced type responses interferon receptor \n",
      "5 porcine epidemic diarrhea genome virus strain sequence complete china characterization pedv analysis piglets reproductive pigs \n",
      "6 influenza pandemic h1n1 2009 avian h5n1 h7n9 transmission risk surveillance illness study like hemagglutinin factors \n",
      "7 infectious diseases emerging disease bronchitis vaccines review bmc control surveillance research tropical microbes www molecular \n",
      "8 health public care research china global emergency review ministry bmc access study surveillance department workers \n",
      "9 viruses detection rna pcr time real using assay rapid based development amplification isothermal reverse loop \n"
     ]
    }
   ],
   "source": [
    "# list of unique words found by the vectorizer\n",
    "feature_names = vec.get_feature_names()\n",
    "\n",
    "#number of most influencing words to display per topic\n",
    "n_top_words = 15\n",
    "\n",
    "for i, topic_vec in enumerate(cls.components_):\n",
    "    print(i, end=' ')\n",
    "    for fid in topic_vec.argsort()[-1:-n_top_words-1:-1]:\n",
    "        print(feature_names[fid], end = ' ')\n",
    "    print()"
   ]
  },
  {
   "cell_type": "code",
   "execution_count": 72,
   "metadata": {},
   "outputs": [
    {
     "data": {
      "text/plain": [
       "['0201', '07', '10']"
      ]
     },
     "execution_count": 72,
     "metadata": {},
     "output_type": "execute_result"
    }
   ],
   "source": [
    "feature_names[1:4]"
   ]
  },
  {
   "cell_type": "code",
   "execution_count": 17,
   "metadata": {},
   "outputs": [],
   "source": [
    "# Same Investigation but searching the whole text instead of just the titles\n",
    "#number of topics to extract\n",
    "n_topics = 10\n",
    "\n",
    "from sklearn.feature_extraction.text import TfidfVectorizer\n",
    "vec = TfidfVectorizer(max_features=5000, stop_words = 'english', max_df =0.95, min_df =2) #max and min document frequency\n",
    "features = vec.fit_transform(text_only['text_body'])"
   ]
  },
  {
   "cell_type": "code",
   "execution_count": 18,
   "metadata": {},
   "outputs": [
    {
     "data": {
      "text/plain": [
       "NMF(alpha=0.0, beta_loss='frobenius', init=None, l1_ratio=0.0, max_iter=200,\n",
       "  n_components=10, random_state=101, shuffle=False, solver='cd',\n",
       "  tol=0.0001, verbose=0)"
      ]
     },
     "execution_count": 18,
     "metadata": {},
     "output_type": "execute_result"
    }
   ],
   "source": [
    "#Use an NMF model for topic modeling\n",
    "from sklearn.decomposition import NMF\n",
    "cls = NMF(n_components = n_topics, random_state = 101) #last is the random seed (use different or same?)\n",
    "cls.fit(features)"
   ]
  },
  {
   "cell_type": "code",
   "execution_count": 76,
   "metadata": {},
   "outputs": [
    {
     "name": "stdout",
     "output_type": "stream",
     "text": [
      "0 respiratory children infections patients rsv tract pneumonia infection viruses acute cause clinical viral age common \n",
      "1 et al 2014 2013 2012 2015 2016 2011 2010 2017 2008 2006 2005 2007 2009 \n",
      "2 cov mers sars coronavirus respiratory east middle syndrome human saudi coronaviruses arabia severe 2012 camels \n",
      "3 rna proteins viral protein viruses virus genome host replication membrane structural sequence gene species dna \n",
      "4 influenza pandemic virus h1n1 viruses h5n1 avian 2009 human seasonal h7n9 flu pandemics poultry humans \n",
      "5 health diseases public disease infectious data transmission emerging surveillance control outbreaks population global outbreak countries \n",
      "6 a1111111111 dengue zikv denv transmission host emergence endemic virus asia infection aerosols disease pathogen prrsv \n",
      "7 pedv diarrhea porcine ped pigs piglets swine virus epidemic disease industry tgev vomiting losses coronaviridae \n",
      "8 cells cell immune ifn infection response responses expression il inflammatory innate receptors type activation cancer \n",
      "9 2019 china covid wuhan cases 2020 ncov sars patients 19 coronavirus confirmed january pneumonia preprint \n"
     ]
    }
   ],
   "source": [
    "# list of unique words found by the vectorizer\n",
    "feature_names = vec.get_feature_names()\n",
    "\n",
    "#number of most influencing words to display per topic\n",
    "n_top_words = 15\n",
    "\n",
    "for i, topic_vec in enumerate(cls.components_):\n",
    "    print(i, end=' ')\n",
    "    for fid in topic_vec.argsort()[-1:-n_top_words-1:-1]:\n",
    "        print(feature_names[fid], end = ' ')\n",
    "    print()"
   ]
  },
  {
   "cell_type": "markdown",
   "metadata": {},
   "source": [
    "** KMeans Clustering **"
   ]
  },
  {
   "cell_type": "code",
   "execution_count": 19,
   "metadata": {},
   "outputs": [],
   "source": [
    "# From https://sanjayasubedi.com.np/nlp/nlp-with-python-document-clustering/ we now try clustering\n",
    "# First, compute TF-IDF values\n",
    "vec = TfidfVectorizer(stop_words='english')\n",
    "vec.fit(text_only.text_body.values)\n",
    "features = vec.transform(text_only.text_body.values)"
   ]
  },
  {
   "cell_type": "code",
   "execution_count": 20,
   "metadata": {},
   "outputs": [],
   "source": [
    "#Create an instance of KMeans.\n",
    "from sklearn.cluster import KMeans"
   ]
  },
  {
   "cell_type": "code",
   "execution_count": 80,
   "metadata": {},
   "outputs": [
    {
     "data": {
      "image/png": "[encoded data removed]",
      "text/plain": [
       "<Figure size 432x288 with 1 Axes>"
      ]
     },
     "metadata": {},
     "output_type": "display_data"
    }
   ],
   "source": [
    "sse = {}\n",
    "for k in range(1,10):  \n",
    "    kmeans = KMeans(n_clusters = k,random_state=101)\n",
    "    kmeans.fit(features)\n",
    "    sse[k]= kmeans.inertia_\n",
    "plt.title('The Elbow Method for Selecting K')\n",
    "plt.xlabel('Number of Clusters, K'); plt.ylabel('SSE')\n",
    "sns.lineplot(x=list(sse.keys()), y = list(sse.values()))#change to point plot when done running\n",
    "plt.show()"
   ]
  },
  {
   "cell_type": "code",
   "execution_count": 24,
   "metadata": {},
   "outputs": [
    {
     "data": {
      "text/plain": [
       "KMeans(algorithm='auto', copy_x=True, init='k-means++', max_iter=300,\n",
       "    n_clusters=4, n_init=10, n_jobs=1, precompute_distances='auto',\n",
       "    random_state=101, tol=0.0001, verbose=0)"
      ]
     },
     "execution_count": 24,
     "metadata": {},
     "output_type": "execute_result"
    }
   ],
   "source": [
    "kmeans2 = KMeans(n_clusters = 4, random_state = 101)\n",
    "kmeans2.fit(features)"
   ]
  },
  {
   "cell_type": "code",
   "execution_count": 26,
   "metadata": {},
   "outputs": [],
   "source": [
    "from sklearn.decomposition import PCA"
   ]
  },
  {
   "cell_type": "code",
   "execution_count": 28,
   "metadata": {},
   "outputs": [
    {
     "data": {
      "text/plain": [
       "<matplotlib.collections.PathCollection at 0x7f9840b250b8>"
      ]
     },
     "execution_count": 28,
     "metadata": {},
     "output_type": "execute_result"
    },
    {
     "data": {
      "image/png": "[encoded data removed]",
      "text/plain": [
       "<Figure size 432x288 with 1 Axes>"
      ]
     },
     "metadata": {},
     "output_type": "display_data"
    }
   ],
   "source": [
    "# Visualize by using PCA to reduce features to 2D\n",
    "pca = PCA(n_components = 2, random_state=101)\n",
    "reduced_features = pca.fit_transform(features.toarray())\n",
    "\n",
    "#reduce the cluster centers to 2D\n",
    "reduced_cluster_centers = pca.transform(kmeans2.cluster_centers_)\n",
    "\n",
    "#Plot\n",
    "plt.scatter(reduced_features[:,0], reduced_features[:,1],c =kmeans2.predict(features))\n",
    "plt.scatter(reduced_cluster_centers[:,0],reduced_cluster_centers[:,1],marker='x', s=150, c='b')"
   ]
  },
  {
   "cell_type": "markdown",
   "metadata": {},
   "source": [
    "** Nearest Neighbors Search **"
   ]
  },
  {
   "cell_type": "markdown",
   "metadata": {},
   "source": [
    "Start with Feature Extraction on the Whole Corpus of Text"
   ]
  },
  {
   "cell_type": "code",
   "execution_count": 37,
   "metadata": {},
   "outputs": [
    {
     "name": "stdout",
     "output_type": "stream",
     "text": [
      "(10779, 10000)\n"
     ]
    }
   ],
   "source": [
    "from sklearn.feature_extraction.text import TfidfVectorizer\n",
    "feature_vec = TfidfVectorizer(max_features=10_000)\n",
    "features = feature_vec.fit_transform(text_only.text_body) #feaure vectors, each with 10000 elements\n",
    "print(features.shape)"
   ]
  },
  {
   "cell_type": "markdown",
   "metadata": {},
   "source": [
    "Model Training"
   ]
  },
  {
   "cell_type": "code",
   "execution_count": 38,
   "metadata": {},
   "outputs": [
    {
     "data": {
      "text/plain": [
       "NearestNeighbors(algorithm='auto', leaf_size=30, metric='cosine',\n",
       "         metric_params=None, n_jobs=1, n_neighbors=10, p=2, radius=1.0)"
      ]
     },
     "execution_count": 38,
     "metadata": {},
     "output_type": "execute_result"
    }
   ],
   "source": [
    "from sklearn.neighbors import NearestNeighbors\n",
    "knn = NearestNeighbors(n_neighbors = 10, metric = 'cosine') #cosine metric generally used for text similarity\n",
    "#algorithm = 'auto' so chooses most appropriate algorithm based on \"features\"\n",
    "knn.fit(features)"
   ]
  },
  {
   "cell_type": "markdown",
   "metadata": {},
   "source": [
    "Find Similar Items Given Input Text"
   ]
  },
  {
   "cell_type": "code",
   "execution_count": 39,
   "metadata": {},
   "outputs": [
    {
     "data": {
      "text/plain": [
       "array([[   0,  203, 5794,  156,  583, 4260, 6789, 7301, 3612, 6771]])"
      ]
     },
     "execution_count": 39,
     "metadata": {},
     "output_type": "execute_result"
    }
   ],
   "source": [
    "#Find nearest neighbors to the first feature vector\n",
    "knn.kneighbors(features[0:1], return_distance = False)"
   ]
  },
  {
   "cell_type": "code",
   "execution_count": 40,
   "metadata": {},
   "outputs": [
    {
     "data": {
      "text/plain": [
       "(array([[1.11022302e-16, 6.83125663e-01, 6.96438581e-01, 7.05180899e-01,\n",
       "         7.10455057e-01, 7.11452383e-01, 7.11833678e-01, 7.12484799e-01,\n",
       "         7.14403978e-01, 7.21911177e-01]]),\n",
       " array([[   0,  203, 5794,  156,  583, 4260, 6789, 7301, 3612, 6771]]))"
      ]
     },
     "execution_count": 40,
     "metadata": {},
     "output_type": "execute_result"
    }
   ],
   "source": [
    "knn.kneighbors(features[0:1], return_distance = True)"
   ]
  },
  {
   "cell_type": "code",
   "execution_count": 60,
   "metadata": {},
   "outputs": [
    {
     "data": {
      "text/html": [
       "<div>\n",
       "<style scoped>\n",
       "    .dataframe tbody tr th:only-of-type {\n",
       "        vertical-align: middle;\n",
       "    }\n",
       "\n",
       "    .dataframe tbody tr th {\n",
       "        vertical-align: top;\n",
       "    }\n",
       "\n",
       "    .dataframe thead th {\n",
       "        text-align: right;\n",
       "    }\n",
       "</style>\n",
       "<table border=\"1\" class=\"dataframe\">\n",
       "  <thead>\n",
       "    <tr style=\"text-align: right;\">\n",
       "      <th></th>\n",
       "      <th>index</th>\n",
       "      <th>title</th>\n",
       "      <th>abstract</th>\n",
       "      <th>text_body</th>\n",
       "    </tr>\n",
       "  </thead>\n",
       "  <tbody>\n",
       "    <tr>\n",
       "      <th>0</th>\n",
       "      <td>1</td>\n",
       "      <td>The RNA pseudoknots in foot-and-mouth disease ...</td>\n",
       "      <td>word count: 194 22 Text word count: 5168 23 24...</td>\n",
       "      <td>VP3, and VP0 (which is further processed to VP...</td>\n",
       "    </tr>\n",
       "    <tr>\n",
       "      <th>1</th>\n",
       "      <td>3</td>\n",
       "      <td>Real-time, MinION-based, amplicon sequencing f...</td>\n",
       "      <td>Infectious bronchitis (IB) causes significant ...</td>\n",
       "      <td>Infectious bronchitis (IB), which is caused by...</td>\n",
       "    </tr>\n",
       "    <tr>\n",
       "      <th>2</th>\n",
       "      <td>4</td>\n",
       "      <td>Assessing spread risk of Wuhan novel coronavir...</td>\n",
       "      <td>NaN</td>\n",
       "      <td>In December 2019, a cluster of patients with p...</td>\n",
       "    </tr>\n",
       "    <tr>\n",
       "      <th>3</th>\n",
       "      <td>5</td>\n",
       "      <td>TWIRLS, an automated topic-wise inference meth...</td>\n",
       "      <td>Faced with the current large-scale public heal...</td>\n",
       "      <td>The sudden outbreak of the new coronavirus (SA...</td>\n",
       "    </tr>\n",
       "    <tr>\n",
       "      <th>4</th>\n",
       "      <td>6</td>\n",
       "      <td>Title: Viruses are a dominant driver of protei...</td>\n",
       "      <td>Viruses interact with hundreds to thousands of...</td>\n",
       "      <td>The copyright holder for this preprint (which ...</td>\n",
       "    </tr>\n",
       "  </tbody>\n",
       "</table>\n",
       "</div>"
      ],
      "text/plain": [
       "   index                                              title  \\\n",
       "0      1  The RNA pseudoknots in foot-and-mouth disease ...   \n",
       "1      3  Real-time, MinION-based, amplicon sequencing f...   \n",
       "2      4  Assessing spread risk of Wuhan novel coronavir...   \n",
       "3      5  TWIRLS, an automated topic-wise inference meth...   \n",
       "4      6  Title: Viruses are a dominant driver of protei...   \n",
       "\n",
       "                                            abstract  \\\n",
       "0  word count: 194 22 Text word count: 5168 23 24...   \n",
       "1  Infectious bronchitis (IB) causes significant ...   \n",
       "2                                                NaN   \n",
       "3  Faced with the current large-scale public heal...   \n",
       "4  Viruses interact with hundreds to thousands of...   \n",
       "\n",
       "                                           text_body  \n",
       "0  VP3, and VP0 (which is further processed to VP...  \n",
       "1  Infectious bronchitis (IB), which is caused by...  \n",
       "2  In December 2019, a cluster of patients with p...  \n",
       "3  The sudden outbreak of the new coronavirus (SA...  \n",
       "4  The copyright holder for this preprint (which ...  "
      ]
     },
     "execution_count": 60,
     "metadata": {},
     "output_type": "execute_result"
    }
   ],
   "source": [
    "text_only.reset_index(inplace=True)\n",
    "text_only.head()"
   ]
  },
  {
   "cell_type": "code",
   "execution_count": 61,
   "metadata": {},
   "outputs": [
    {
     "name": "stdout",
     "output_type": "stream",
     "text": [
      "Input text =  What is known about transmission, incubation, and environmental stability? \n",
      "\n",
      "Distance =  0.7292651254933358 Neighbor idx =  2987\n",
      "Correspondence: Jantien A Backer (jantien.backer@rivm.nl)\n",
      "----------------------------------------------------------------------------------------------------\n",
      "Distance =  0.7292651254933358 Neighbor idx =  7641\n",
      "Correspondence: Jantien A Backer (jantien.backer@rivm.nl)\n",
      "----------------------------------------------------------------------------------------------------\n",
      "Distance =  0.7418239493295282 Neighbor idx =  3493\n",
      "Incubation periods of viral gastroenteritis: a systematic review\n",
      "----------------------------------------------------------------------------------------------------\n",
      "Distance =  0.7533553337975165 Neighbor idx =  2852\n",
      "Association between the Severity of Influenza A(H7N9) Virus Infections and Length of the Incubation Period\n",
      "----------------------------------------------------------------------------------------------------\n",
      "Distance =  0.7633191883920567 Neighbor idx =  9718\n",
      "Essay Problem-and Case-Based Learning in Science: An Introduction to Distinctions, Values, and Outcomes\n",
      "----------------------------------------------------------------------------------------------------\n",
      "====================================================================================================\n",
      "\n",
      "Input text =  What do we know about COVID-19 risk factors \n",
      "\n",
      "Distance =  0.6966562484156171 Neighbor idx =  654\n",
      "Title: ACP risk grade: a simple mortality index for patients with confirmed or suspected severe acute respiratory syndrome coronavirus 2 disease (COVID-19) during the early stage of outbreak in Wuhan\n",
      "----------------------------------------------------------------------------------------------------\n",
      "Distance =  0.7117002559291692 Neighbor idx =  49\n",
      "Acute Myocardial Injury of Patients with Coronavirus Disease 2019\n",
      "----------------------------------------------------------------------------------------------------\n",
      "Distance =  0.7134227928497296 Neighbor idx =  99\n",
      "Hypokalemia and Clinical Implications in Patients with Coronavirus Disease 2019 (COVID-19)\n",
      "----------------------------------------------------------------------------------------------------\n",
      "Distance =  0.7136264690367486 Neighbor idx =  381\n",
      "Clinical significance of IgM and IgG test for diagnosis of highly suspected COVID-19 infection\n",
      "----------------------------------------------------------------------------------------------------\n",
      "Distance =  0.7165997898423129 Neighbor idx =  569\n",
      "2019 novel coronavirus disease in hemodialysis (HD) patients: Report from one HD center in Wuhan, China\n",
      "----------------------------------------------------------------------------------------------------\n",
      "====================================================================================================\n",
      "\n",
      "Input text =  What do we know about virus genetics, origin, and evolution? \n",
      "\n",
      "Distance =  0.7941110638913681 Neighbor idx =  4772\n",
      "RNA Virus Reverse Genetics and Vaccine Design\n",
      "----------------------------------------------------------------------------------------------------\n",
      "Distance =  0.7983223180087891 Neighbor idx =  10610\n",
      "The great opportunity: Evolutionary applications to medicine and public health\n",
      "----------------------------------------------------------------------------------------------------\n",
      "Distance =  0.8006922350451454 Neighbor idx =  10361\n",
      "ANOTHER DIMENSION Emerging Infectious Literatures and the Zombie Condition\n",
      "----------------------------------------------------------------------------------------------------\n",
      "Distance =  0.8041999563499469 Neighbor idx =  9718\n",
      "Essay Problem-and Case-Based Learning in Science: An Introduction to Distinctions, Values, and Outcomes\n",
      "----------------------------------------------------------------------------------------------------\n",
      "Distance =  0.8181534424561324 Neighbor idx =  4497\n",
      "Multipartite viruses: adaptive trick or evolutionary treat?\n",
      "----------------------------------------------------------------------------------------------------\n",
      "====================================================================================================\n",
      "\n",
      "Input text =  What do we know about non-pharmaceutical inverventions? \n",
      "\n",
      "Distance =  0.7182073920389187 Neighbor idx =  7402\n",
      "Public perceptions of non-pharmaceutical interventions for reducing transmission of respiratory infection: systematic review and synthesis of qualitative studies\n",
      "----------------------------------------------------------------------------------------------------\n",
      "Distance =  0.781857745306586 Neighbor idx =  9718\n",
      "Essay Problem-and Case-Based Learning in Science: An Introduction to Distinctions, Values, and Outcomes\n",
      "----------------------------------------------------------------------------------------------------\n",
      "Distance =  0.7884183186321285 Neighbor idx =  10361\n",
      "ANOTHER DIMENSION Emerging Infectious Literatures and the Zombie Condition\n",
      "----------------------------------------------------------------------------------------------------\n",
      "Distance =  0.8052699700124382 Neighbor idx =  5071\n",
      "BMC Public Health Non-pharmaceutical public health interventions for pandemic influenza: an evaluation of the evidence base\n",
      "----------------------------------------------------------------------------------------------------\n",
      "Distance =  0.8083445365444452 Neighbor idx =  3356\n",
      "BMC Infectious Diseases Influenza pandemic intervention planning using InfluSim: pharmaceutical and non-pharmaceutical interventions\n",
      "----------------------------------------------------------------------------------------------------\n",
      "====================================================================================================\n",
      "\n",
      "Input text =  What do we know about vaccines and therapeutics? \n",
      "\n",
      "Distance =  0.7752569198260921 Neighbor idx =  8652\n",
      "Characterization of Sudan Ebolavirus infection in ferrets\n",
      "----------------------------------------------------------------------------------------------------\n",
      "Distance =  0.776882607378337 Neighbor idx =  10361\n",
      "ANOTHER DIMENSION Emerging Infectious Literatures and the Zombie Condition\n",
      "----------------------------------------------------------------------------------------------------\n",
      "Distance =  0.7808093667384053 Neighbor idx =  9718\n",
      "Essay Problem-and Case-Based Learning in Science: An Introduction to Distinctions, Values, and Outcomes\n",
      "----------------------------------------------------------------------------------------------------\n",
      "Distance =  0.8072595788159114 Neighbor idx =  4497\n",
      "Multipartite viruses: adaptive trick or evolutionary treat?\n",
      "----------------------------------------------------------------------------------------------------\n",
      "Distance =  0.8087739735031502 Neighbor idx =  6049\n",
      "Intranasal DNA Vaccine for Protection against Respiratory Infectious Diseases: The Delivery Perspectives\n",
      "----------------------------------------------------------------------------------------------------\n",
      "====================================================================================================\n",
      "\n",
      "Input text =  What has been published about ethical and social science considerations? \n",
      "\n",
      "Distance =  0.6987763727898614 Neighbor idx =  9457\n",
      "Ethical Perspectives on the Middle East Respiratory Syndrome Coronavirus Epidemic in Korea\n",
      "----------------------------------------------------------------------------------------------------\n",
      "Distance =  0.7048256947915105 Neighbor idx =  4280\n",
      "653-662 Lor et al\n",
      "----------------------------------------------------------------------------------------------------\n",
      "Distance =  0.7525961677510812 Neighbor idx =  566\n",
      "Social history and exposure to pathogen signals modulate social status effects on gene regulation in rhesus macaques\n",
      "----------------------------------------------------------------------------------------------------\n",
      "Distance =  0.7965972363033098 Neighbor idx =  10361\n",
      "ANOTHER DIMENSION Emerging Infectious Literatures and the Zombie Condition\n",
      "----------------------------------------------------------------------------------------------------\n",
      "Distance =  0.801628304200042 Neighbor idx =  8936\n",
      "Mining social media and web searches for disease detection\n",
      "----------------------------------------------------------------------------------------------------\n",
      "====================================================================================================\n",
      "\n",
      "Input text =  What has been published about information sharing and inter-sectoral collaboration? \n",
      "\n",
      "Distance =  0.7529590890277951 Neighbor idx =  3802\n",
      "What incentives increase data sharing in health and medical research? A systematic review\n",
      "----------------------------------------------------------------------------------------------------\n",
      "Distance =  0.7616262198888093 Neighbor idx =  5718\n",
      "Integration of shared-pathogen networks and machine learning reveals the key aspects of zoonoses and predicts mammalian reservoirs\n",
      "----------------------------------------------------------------------------------------------------\n",
      "Distance =  0.7978076141382142 Neighbor idx =  8258\n",
      "Make Data Sharing Routine to Prepare for Public Health Emergencies\n",
      "----------------------------------------------------------------------------------------------------\n",
      "Distance =  0.8101862675567364 Neighbor idx =  9718\n",
      "Essay Problem-and Case-Based Learning in Science: An Introduction to Distinctions, Values, and Outcomes\n",
      "----------------------------------------------------------------------------------------------------\n",
      "Distance =  0.831313785734708 Neighbor idx =  520\n",
      "The impact of news exposure on collective attention in the United States during the 2016 Zika epidemic\n",
      "----------------------------------------------------------------------------------------------------\n",
      "====================================================================================================\n",
      "\n",
      "Input text =  What do we know about diagnostics and surveillance? \n",
      "\n",
      "Distance =  0.7783804399427025 Neighbor idx =  10361\n",
      "ANOTHER DIMENSION Emerging Infectious Literatures and the Zombie Condition\n",
      "----------------------------------------------------------------------------------------------------\n",
      "Distance =  0.7822808381662729 Neighbor idx =  9718\n",
      "Essay Problem-and Case-Based Learning in Science: An Introduction to Distinctions, Values, and Outcomes\n",
      "----------------------------------------------------------------------------------------------------\n",
      "Distance =  0.7889353579635379 Neighbor idx =  2910\n",
      "Evaluating Hospital-Based Surveillance for Outbreak Detection in Bangladesh: Analysis of Healthcare Utilization Data\n",
      "----------------------------------------------------------------------------------------------------\n",
      "Distance =  0.797842901505385 Neighbor idx =  1503\n",
      "BMC Public Health Beyond traditional surveillance: applying syndromic surveillance to developing settings -opportunities and challenges\n",
      "----------------------------------------------------------------------------------------------------\n",
      "Distance =  0.8016393931285182 Neighbor idx =  9192\n",
      "Special Report Challenges in identifying antibiotic resistance targets for point-of-care diagnostics in general practice\n",
      "----------------------------------------------------------------------------------------------------\n",
      "====================================================================================================\n",
      "\n",
      "Input text =  What has been published about medical care? \n",
      "\n",
      "Distance =  0.724066232377321 Neighbor idx =  9718\n",
      "Essay Problem-and Case-Based Learning in Science: An Introduction to Distinctions, Values, and Outcomes\n",
      "----------------------------------------------------------------------------------------------------\n",
      "Distance =  0.7596862418684519 Neighbor idx =  6913\n",
      "Unjustifi ed Restrictions on Letters to the Editor\n",
      "----------------------------------------------------------------------------------------------------\n",
      "Distance =  0.7815923381566606 Neighbor idx =  10126\n",
      "Pandemic influenza: are we prepared to face our obligations?\n",
      "----------------------------------------------------------------------------------------------------\n",
      "Distance =  0.7818350233830338 Neighbor idx =  9881\n",
      "The Effect of Having a Regular Doctor as a Primary Care Provider on Emergency Room Utilization in South Korea The Effect of Having a Regular Doctor on Emergency Room Utilization\n",
      "----------------------------------------------------------------------------------------------------\n",
      "Distance =  0.7866882813005909 Neighbor idx =  5542\n",
      "Open Access Prospective evaluation of an internet-linked handheld computer critical care knowledge access system\n",
      "----------------------------------------------------------------------------------------------------\n",
      "====================================================================================================\n",
      "\n"
     ]
    }
   ],
   "source": [
    "# Give the Kaggle questions as input find the nearest neighbors.\n",
    "input_texts = [\"What is known about transmission, incubation, and environmental stability?\", \"What do we know about COVID-19 risk factors\",\n",
    "              \"What do we know about virus genetics, origin, and evolution?\", \"What do we know about non-pharmaceutical inverventions?\",\n",
    "              \"What do we know about vaccines and therapeutics?\", \"What has been published about ethical and social science considerations?\",\n",
    "              \"What has been published about information sharing and inter-sectoral collaboration?\", \"What do we know about diagnostics and surveillance?\",\n",
    "              \"What has been published about medical care?\"]\n",
    "input_features = feature_vec.transform(input_texts)\n",
    "\n",
    "#Nearest Neighbor search\n",
    "D,N = knn.kneighbors(input_features, n_neighbors = 5, return_distance = True)\n",
    "\n",
    "#Create nice print out of results\n",
    "for input_text, distances, neighbors, in zip(input_texts,D,N):\n",
    "    print(\"Input text = \", input_text,\"\\n\")\n",
    "    for dist, neighbor_idx in zip(distances, neighbors):\n",
    "        print(\"Distance = \", dist, \"Neighbor idx = \", neighbor_idx)\n",
    "        print(text_only.title[neighbor_idx]) #print out the title of the associated article\n",
    "        print(\"-\"*100) #for separation between neighbors\n",
    "    print(\"=\"*100) #for separation between entries\n",
    "    print()"
   ]
  },
  {
   "cell_type": "code",
   "execution_count": 62,
   "metadata": {},
   "outputs": [
    {
     "name": "stdout",
     "output_type": "stream",
     "text": [
      "Input text =  Range of incubation periods for the disease in humans (and how this varies across age and health status) and how long individuals are contagious, even after recovery. \n",
      "\n",
      "Distance =  0.7507503018305122 Neighbor idx =  2943\n",
      "Buying Time-The Immune System Determinants of the Incubation Period to Respiratory Viruses\n",
      "----------------------------------------------------------------------------------------------------\n",
      "Distance =  0.7525180980134694 Neighbor idx =  10551\n",
      "DISPATCHES\n",
      "----------------------------------------------------------------------------------------------------\n",
      "Distance =  0.7564436857098772 Neighbor idx =  3493\n",
      "Incubation periods of viral gastroenteritis: a systematic review\n",
      "----------------------------------------------------------------------------------------------------\n",
      "Distance =  0.7715808917363789 Neighbor idx =  7641\n",
      "Correspondence: Jantien A Backer (jantien.backer@rivm.nl)\n",
      "----------------------------------------------------------------------------------------------------\n",
      "Distance =  0.7715808917363789 Neighbor idx =  2987\n",
      "Correspondence: Jantien A Backer (jantien.backer@rivm.nl)\n",
      "----------------------------------------------------------------------------------------------------\n",
      "====================================================================================================\n",
      "\n",
      "Input text =  Prevalence of asymptomatic shedding and transmission (e.g., particularly children) \n",
      "\n",
      "Distance =  0.7439456093445547 Neighbor idx =  6534\n",
      "SheddomeDB: the ectodomain shedding database for membrane-bound shed markers\n",
      "----------------------------------------------------------------------------------------------------\n",
      "Distance =  0.7587090751237195 Neighbor idx =  4754\n",
      "Asymptomatic Shedding of Respiratory Virus among an Ambulatory Population across Seasons\n",
      "----------------------------------------------------------------------------------------------------\n",
      "Distance =  0.7669183725157975 Neighbor idx =  6156\n",
      "Early Detection for Cases of Enterovirus-and Influenza-Like Illness through a Newly Established School-Based Syndromic Surveillance System in Taipei\n",
      "----------------------------------------------------------------------------------------------------\n",
      "Distance =  0.7691462656597408 Neighbor idx =  5532\n",
      "Analysis of Epidemiological Characteristics of Notifiable Diseases Reported in Children Aged 0-14 Years from 2008 to 2017 in Zhejiang Province, China\n",
      "----------------------------------------------------------------------------------------------------\n",
      "Distance =  0.7784643134601565 Neighbor idx =  8110\n",
      "Nosocomial Transmission Chains of 2009 Influenza A/H1N1 among Children Admitted at Red Cross War Memorial Children's Hospital\n",
      "----------------------------------------------------------------------------------------------------\n",
      "====================================================================================================\n",
      "\n",
      "Input text =  Seasonality of transmission \n",
      "\n",
      "Distance =  0.6591571290484798 Neighbor idx =  3074\n",
      "Epidemiology of Pathogen-Specific Respiratory Infections among Three US Populations\n",
      "----------------------------------------------------------------------------------------------------\n",
      "Distance =  0.6970992927018105 Neighbor idx =  2482\n",
      "BMC Infectious Diseases Let the sun shine in: effects of ultraviolet radiation on invasive pneumococcal disease risk in Philadelphia, Pennsylvania\n",
      "----------------------------------------------------------------------------------------------------\n",
      "Distance =  0.698142289526769 Neighbor idx =  7126\n",
      "The Burden of Influenza-Associated Hospitalizations in Oman\n",
      "----------------------------------------------------------------------------------------------------\n",
      "Distance =  0.7002188151486509 Neighbor idx =  3274\n",
      "Long-term trends in seasonality of mortality in urban Madagascar: the role of the epidemiological transition\n",
      "----------------------------------------------------------------------------------------------------\n",
      "Distance =  0.7058488394527409 Neighbor idx =  3245\n",
      "Seasonal Variation of Newly Notified Pulmonary Tuberculosis Cases from\n",
      "----------------------------------------------------------------------------------------------------\n",
      "====================================================================================================\n",
      "\n",
      "Input text =  Physical science of the coronavirus (e.g., charge distribution, adhesion to hydrophilic/phobic surfaces, environmental survival to inform decontamination efforts for affected areas and provide information about viral shedding) \n",
      "\n",
      "Distance =  0.7478839946041103 Neighbor idx =  6005\n",
      "Response surface modeling for hot, humid air decontamination of materials contaminated with Bacillus anthracis ΔSterne and Bacillus thuringiensis Al Hakam spores\n",
      "----------------------------------------------------------------------------------------------------\n",
      "Distance =  0.7867184113904944 Neighbor idx =  3562\n",
      "Evaluation of an accelerated hydrogen peroxide disinfectant to inactivate porcine epidemic diarrhea virus in swine feces on aluminum surfaces under freezing conditions\n",
      "----------------------------------------------------------------------------------------------------\n",
      "Distance =  0.7899593949804451 Neighbor idx =  3922\n",
      "Methicillin-Resistant Staphylococcus aureus (MRSA) Contamination in Bedside Surfaces of a Hospital Ward and the Potential Effectiveness of Enhanced Disinfection with an Antimicrobial Polymer Surfactant\n",
      "----------------------------------------------------------------------------------------------------\n",
      "Distance =  0.8378540438355324 Neighbor idx =  6534\n",
      "SheddomeDB: the ectodomain shedding database for membrane-bound shed markers\n",
      "----------------------------------------------------------------------------------------------------\n",
      "Distance =  0.8509902527138041 Neighbor idx =  6869\n",
      "Survival of Influenza A(H1N1) on Materials Found in Households: Implications for Infection Control\n",
      "----------------------------------------------------------------------------------------------------\n",
      "====================================================================================================\n",
      "\n",
      "Input text =  Persistence and stability on a multitude of substrates and sources (e.g., nasal discharge, sputum, urine, fecal matter, blood) \n",
      "\n",
      "Distance =  0.7873727684389329 Neighbor idx =  5073\n",
      "Asymmetric expression level of clock genes in left vs. right nasal mucosa in humans with and without allergies and in rats: Circadian characteristics and possible contribution to nasal cycle\n",
      "----------------------------------------------------------------------------------------------------\n",
      "Distance =  0.8109471153977151 Neighbor idx =  1379\n",
      "Equine rhinitis B viruses in horse fecal samples from the Middle East\n",
      "----------------------------------------------------------------------------------------------------\n",
      "Distance =  0.8142487818407916 Neighbor idx =  8676\n",
      "Comparative Evaluation of Three Homogenization Methods for Isolating Middle East Respiratory Syndrome Coronavirus Nucleic Acids From Sputum Samples for Real-Time Reverse Transcription PCR\n",
      "----------------------------------------------------------------------------------------------------\n",
      "Distance =  0.8252009615688323 Neighbor idx =  6319\n",
      "Treatment with proteasome inhibitor bortezomib decreases organic anion transporting polypeptide (OATP) 1B3- mediated transport in a substrate-dependent manner\n",
      "----------------------------------------------------------------------------------------------------\n",
      "Distance =  0.8351427186694129 Neighbor idx =  453\n",
      "Analysis of early renal injury in COVID-19 and diagnostic value of multi-index combined detection\n",
      "----------------------------------------------------------------------------------------------------\n",
      "====================================================================================================\n",
      "\n",
      "Input text =  Persistence of virus on surfaces of different materials (e,g., copper, stainless steel, plastic) \n",
      "\n",
      "Distance =  0.7602970569384849 Neighbor idx =  6869\n",
      "Survival of Influenza A(H1N1) on Materials Found in Households: Implications for Infection Control\n",
      "----------------------------------------------------------------------------------------------------\n",
      "Distance =  0.7794440873128192 Neighbor idx =  8941\n",
      "Human Coronavirus 229E Remains Infectious on Common Touch Surface Materials\n",
      "----------------------------------------------------------------------------------------------------\n",
      "Distance =  0.7814569536660998 Neighbor idx =  1910\n",
      "BMC Infectious Diseases How long do nosocomial pathogens persist on inanimate surfaces? A systematic review\n",
      "----------------------------------------------------------------------------------------------------\n",
      "Distance =  0.8061724236566905 Neighbor idx =  6881\n",
      "A new Schiff base coordinated copper(II) compound induces apoptosis and inhibits tumor growth in gastric cancer\n",
      "----------------------------------------------------------------------------------------------------\n",
      "Distance =  0.8170337055114064 Neighbor idx =  1151\n",
      "Type I Interferon Receptor Deficiency in Dendritic Cells Facilitates Systemic Murine Norovirus Persistence Despite Enhanced Adaptive Immunity\n",
      "----------------------------------------------------------------------------------------------------\n",
      "====================================================================================================\n",
      "\n",
      "Input text =  Natural history of the virus and shedding of it from an infected person \n",
      "\n",
      "Distance =  0.622527668688921 Neighbor idx =  4570\n",
      "Watching brief Title Wuhan novel coronavirus 2019nCoV\n",
      "----------------------------------------------------------------------------------------------------\n",
      "Distance =  0.7218477110568504 Neighbor idx =  6534\n",
      "SheddomeDB: the ectodomain shedding database for membrane-bound shed markers\n",
      "----------------------------------------------------------------------------------------------------\n",
      "Distance =  0.7270686990281132 Neighbor idx =  5808\n",
      "Estimating the Asymptomatic Ratio of Norovirus Infection During Foodborne Outbreaks With Laboratory Testing in Japan\n",
      "----------------------------------------------------------------------------------------------------\n",
      "Distance =  0.7324952070345838 Neighbor idx =  10040\n",
      "Follow-up of Contacts of Middle East Respiratory Syndrome Coronavirus-Infected Returning Travelers, the Netherlands, 2014\n",
      "----------------------------------------------------------------------------------------------------\n",
      "Distance =  0.7378898290732694 Neighbor idx =  5277\n",
      "The Evolution of Poxvirus Vaccines\n",
      "----------------------------------------------------------------------------------------------------\n",
      "====================================================================================================\n",
      "\n",
      "Input text =  Implementation of diagnostics and products to improve clinical processes \n",
      "\n",
      "Distance =  0.7120102382967071 Neighbor idx =  9188\n",
      "Ebola Preparedness in the Netherlands: The Need for Coordination Between the Public Health and the Curative Sector\n",
      "----------------------------------------------------------------------------------------------------\n",
      "Distance =  0.7694505620284473 Neighbor idx =  8957\n",
      "Techno-economic analysis of a transient plant-based platform for monoclonal antibody production\n",
      "----------------------------------------------------------------------------------------------------\n",
      "Distance =  0.772408866252138 Neighbor idx =  8838\n",
      "Assessing Continuous Quality Improvement in Public Health: Adapting Lessons from Healthcare Évaluation de l' amélioration continue de la qualité en santé publique : adapter les leçons des services de santé\n",
      "----------------------------------------------------------------------------------------------------\n",
      "Distance =  0.7764326827283697 Neighbor idx =  9192\n",
      "Special Report Challenges in identifying antibiotic resistance targets for point-of-care diagnostics in general practice\n",
      "----------------------------------------------------------------------------------------------------\n",
      "Distance =  0.7814516119615967 Neighbor idx =  6715\n",
      "Diagnostics for Lassa fever virus: a genetically diverse pathogen found in low-resource settings\n",
      "----------------------------------------------------------------------------------------------------\n",
      "====================================================================================================\n",
      "\n",
      "Input text =  Disease models, including animal models for infection, disease and transmission \n",
      "\n",
      "Distance =  0.5926894859597185 Neighbor idx =  9735\n",
      "Animal Models of Cardiac Disease and Stem Cell Therapy\n",
      "----------------------------------------------------------------------------------------------------\n",
      "Distance =  0.6020034173957529 Neighbor idx =  10128\n",
      "Emmie de Wit\n",
      "----------------------------------------------------------------------------------------------------\n",
      "Distance =  0.646549956639702 Neighbor idx =  6899\n",
      "Increasing the translation of mouse models of MERS coronavirus pathogenesis through kinetic hematological analysis\n",
      "----------------------------------------------------------------------------------------------------\n",
      "Distance =  0.6555169215089927 Neighbor idx =  8497\n",
      "The tree shrew provides a useful alternative model for the study of influenza H1N1 virus\n",
      "----------------------------------------------------------------------------------------------------\n",
      "Distance =  0.662429457252679 Neighbor idx =  7175\n",
      "A systematic review to identify areas of enhancements of pandemic simulation models for operational use at provincial and local levels\n",
      "----------------------------------------------------------------------------------------------------\n",
      "====================================================================================================\n",
      "\n",
      "Input text =  Tools and studies to monitor phenotypic change and potential adaptation of the virus \n",
      "\n",
      "Distance =  0.77993028669457 Neighbor idx =  6470\n",
      "Acquisition of Cell-Cell Fusion Activity by Amino Acid Substitutions in Spike Protein Determines the Infectivity of a Coronavirus in Cultured Cells\n",
      "----------------------------------------------------------------------------------------------------\n",
      "Distance =  0.7988715158875245 Neighbor idx =  1349\n",
      "European Monitoring Systems and Data for Assessing Environmental and Climate Impacts on Human Infectious Diseases\n",
      "----------------------------------------------------------------------------------------------------\n",
      "Distance =  0.8118696593756392 Neighbor idx =  5124\n",
      "Evolutionary Dynamics in the RNA Bacteriophage Qβ Depends on the Pattern of Change in Selective Pressures\n",
      "----------------------------------------------------------------------------------------------------\n",
      "Distance =  0.8162452251948555 Neighbor idx =  6675\n",
      "Predicting virus emergence amid evolutionary noise\n",
      "----------------------------------------------------------------------------------------------------\n",
      "Distance =  0.8164871664922377 Neighbor idx =  8767\n",
      "ViPR: an open bioinformatics database and analysis resource for virology research\n",
      "----------------------------------------------------------------------------------------------------\n",
      "====================================================================================================\n",
      "\n",
      "Input text =  Immune response and immunity \n",
      "\n",
      "Distance =  0.5658157403923001 Neighbor idx =  6297\n",
      "Curating the innate immunity interactome\n",
      "----------------------------------------------------------------------------------------------------\n",
      "Distance =  0.6233344427397087 Neighbor idx =  7964\n",
      "Computer aided selection of candidate vaccine antigens\n",
      "----------------------------------------------------------------------------------------------------\n",
      "Distance =  0.6615120597724644 Neighbor idx =  3616\n",
      "Human β-defensin 2 plays a regulatory role in innate antiviral immunity and is capable of potentiating the induction of antigen- specific immunity\n",
      "----------------------------------------------------------------------------------------------------\n",
      "Distance =  0.6647725759837624 Neighbor idx =  7988\n",
      "Liposome-Coupled Antigens Are Internalized by Antigen-Presenting Cells via Pinocytosis and Cross- Presented to CD8 + T Cells\n",
      "----------------------------------------------------------------------------------------------------\n",
      "Distance =  0.6869049488995518 Neighbor idx =  10260\n",
      "The Effects of Ozone on Immune Function\n",
      "----------------------------------------------------------------------------------------------------\n",
      "====================================================================================================\n",
      "\n",
      "Input text =  Effectiveness of movement control strategies to prevent secondary transmission in health care and community settings \n",
      "\n",
      "Distance =  0.7608374178731347 Neighbor idx =  6682\n",
      "A Comparative Study of Clinical Presentation and Risk Factors for Adverse Outcome in Patients Hospitalised with Acute Respiratory Disease Due to MERS Coronavirus or Other Causes\n",
      "----------------------------------------------------------------------------------------------------\n",
      "Distance =  0.764020393872889 Neighbor idx =  8906\n",
      "and Primary Health Care\n",
      "----------------------------------------------------------------------------------------------------\n",
      "Distance =  0.7778165978792152 Neighbor idx =  689\n",
      "a section of the journal Frontiers in Pediatrics A Review of Pediatric Critical Care in Resource-Limited Settings: A Look at Past, Present, and Future Directions\n",
      "----------------------------------------------------------------------------------------------------\n",
      "Distance =  0.778941051148024 Neighbor idx =  9670\n",
      "Implementation of Quaternary Prevention in the Korean Healthcare System: Lessons From the 2015 Middle East Respiratory Syndrome Coronavirus Outbreak in the Re- public of Korea\n",
      "----------------------------------------------------------------------------------------------------\n",
      "Distance =  0.7934968588370278 Neighbor idx =  9881\n",
      "The Effect of Having a Regular Doctor as a Primary Care Provider on Emergency Room Utilization in South Korea The Effect of Having a Regular Doctor on Emergency Room Utilization\n",
      "----------------------------------------------------------------------------------------------------\n",
      "====================================================================================================\n",
      "\n",
      "Input text =  Effectiveness of personal protective equipment (PPE) and its usefulness to reduce risk of transmission in health care and community settings \n",
      "\n",
      "Distance =  0.5946752373458901 Neighbor idx =  920\n",
      "Evaluation of a Redesigned Personal Protective Equipment Gown\n",
      "----------------------------------------------------------------------------------------------------\n",
      "Distance =  0.5969807991393288 Neighbor idx =  2012\n",
      "Limiting factors for wearing personal protective equipment (PPE) in a health care environment evaluated in a randomised study\n",
      "----------------------------------------------------------------------------------------------------\n",
      "Distance =  0.621250915638421 Neighbor idx =  3292\n",
      "Self-contamination during doffing of personal protective equipment by healthcare workers to prevent Ebola transmission\n",
      "----------------------------------------------------------------------------------------------------\n",
      "Distance =  0.6558665115454759 Neighbor idx =  4349\n",
      "Open Peer Review Discuss this article (0) Comments Incorporating health workers' perspectives into a WHO guideline on personal protective equipment developed during an Ebola virus disease outbreak [version 2; referees: 2 approved] , Bali District v2\n",
      "----------------------------------------------------------------------------------------------------\n",
      "Distance =  0.6722352745987499 Neighbor idx =  6671\n",
      "Do medical students receive training in correct use of personal protective equipment?\n",
      "----------------------------------------------------------------------------------------------------\n",
      "====================================================================================================\n",
      "\n",
      "Input text =  Role of the environment in transmission \n",
      "\n",
      "Distance =  0.6220123892495959 Neighbor idx =  4958\n",
      "Survival of influenza A virus on contaminated student clothing\n",
      "----------------------------------------------------------------------------------------------------\n",
      "Distance =  0.733250332184983 Neighbor idx =  4712\n",
      "Outbreak 2019-nCoV (Wuhan virus), a novel Coronavirus: human-to-human transmission, travel-related cases, and vaccine readiness\n",
      "----------------------------------------------------------------------------------------------------\n",
      "Distance =  0.734962990367467 Neighbor idx =  5430\n",
      "Molecular and Microscopic Analysis of Bacteria and Viruses in Exhaled Breath Collected Using a Simple Impaction and Condensing Method\n",
      "----------------------------------------------------------------------------------------------------\n",
      "Distance =  0.7362920139390199 Neighbor idx =  4545\n",
      "The Effects of Temperature and Relative Humidity on the Viability of the SARS Coronavirus\n",
      "----------------------------------------------------------------------------------------------------\n",
      "Distance =  0.7449711426830561 Neighbor idx =  251\n",
      "Assessing the plausibility of subcritical transmission of 2019-nCoV in the United States\n",
      "----------------------------------------------------------------------------------------------------\n",
      "====================================================================================================\n",
      "\n"
     ]
    }
   ],
   "source": [
    "#Use more detail from the first Kaggle qeustion, e.g., as input text to find nearest neighbors. \n",
    "input_texts = [\"Range of incubation periods for the disease in humans (and how this varies across age and health status) and how long individuals are contagious, even after recovery.\", \n",
    "               \"Prevalence of asymptomatic shedding and transmission (e.g., particularly children)\",\n",
    "              \"Seasonality of transmission\", \"Physical science of the coronavirus (e.g., charge distribution, adhesion to hydrophilic/phobic surfaces, environmental survival to inform decontamination efforts for affected areas and provide information about viral shedding)\",\n",
    "              \"Persistence and stability on a multitude of substrates and sources (e.g., nasal discharge, sputum, urine, fecal matter, blood)\", \n",
    "               \"Persistence of virus on surfaces of different materials (e,g., copper, stainless steel, plastic)\", \"Natural history of the virus and shedding of it from an infected person\",\n",
    "              \"Implementation of diagnostics and products to improve clinical processes\", \"Disease models, including animal models for infection, disease and transmission\",\n",
    "              \"Tools and studies to monitor phenotypic change and potential adaptation of the virus\", \"Immune response and immunity\",\n",
    "              \"Effectiveness of movement control strategies to prevent secondary transmission in health care and community settings\",\n",
    "\"Effectiveness of personal protective equipment (PPE) and its usefulness to reduce risk of transmission in health care and community settings\",\n",
    "\"Role of the environment in transmission\"]\n",
    "input_features = feature_vec.transform(input_texts)\n",
    "\n",
    "#Nearest Neighbor search\n",
    "D,N = knn.kneighbors(input_features, n_neighbors = 5, return_distance = True)\n",
    "\n",
    "#Create nice print out of results\n",
    "for input_text, distances, neighbors, in zip(input_texts,D,N):\n",
    "    print(\"Input text = \", input_text,\"\\n\")\n",
    "    for dist, neighbor_idx in zip(distances, neighbors):\n",
    "        print(\"Distance = \", dist, \"Neighbor idx = \", neighbor_idx)\n",
    "        print(text_only.title[neighbor_idx]) #print out the title of the associated article\n",
    "        print(\"-\"*100) #for separation between neighbors\n",
    "    print(\"=\"*100) #for separation between entries\n",
    "    print()"
   ]
  },
  {
   "cell_type": "code",
   "execution_count": null,
   "metadata": {},
   "outputs": [],
   "source": []
  },
  {
   "cell_type": "code",
   "execution_count": null,
   "metadata": {},
   "outputs": [],
   "source": []
  }
 ],
 "metadata": {
  "kernelspec": {
   "display_name": "Python 3",
   "language": "python",
   "name": "python3"
  },
  "language_info": {
   "codemirror_mode": {
    "name": "ipython",
    "version": 3
   },
   "file_extension": ".py",
   "mimetype": "text/x-python",
   "name": "python",
   "nbconvert_exporter": "python",
   "pygments_lexer": "ipython3",
   "version": "3.6.8"
  }
 },
 "nbformat": 4,
 "nbformat_minor": 2
}
